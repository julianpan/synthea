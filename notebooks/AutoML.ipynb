{
  "nbformat": 4,
  "nbformat_minor": 0,
  "metadata": {
    "colab": {
      "name": "AutoML.ipynb",
      "provenance": [],
      "collapsed_sections": []
    },
    "kernelspec": {
      "display_name": "Python 3",
      "name": "python3"
    },
    "language_info": {
      "name": "python"
    }
  },
  "cells": [
    {
      "cell_type": "markdown",
      "metadata": {
        "id": "JAXM8h0dMTwk"
      },
      "source": [
        "This notebook was built and tested on Google Colab. We need to prepare the runtime environment and install auto-sklearn and dependencies."
      ]
    },
    {
      "cell_type": "code",
      "metadata": {
        "id": "JU9uHgxNnrI4"
      },
      "source": [
        "!sudo apt-get install build-essential swig\n",
        "!python -m pip install --upgrade pip\n",
        "!pip install scikit-learn==0.24.1"
      ],
      "execution_count": null,
      "outputs": []
    },
    {
      "cell_type": "code",
      "metadata": {
        "id": "IkcmRacDnuJc"
      },
      "source": [
        "!curl https://raw.githubusercontent.com/automl/auto-sklearn/master/requirements.txt | xargs -n 1 -L 1 pip install\n",
        "!pip install auto-sklearn"
      ],
      "execution_count": null,
      "outputs": []
    },
    {
      "cell_type": "markdown",
      "metadata": {
        "id": "mN8CkI-8MnX-"
      },
      "source": [
        "Runtime need to be restarted to run the rest of the cells."
      ]
    },
    {
      "cell_type": "code",
      "metadata": {
        "colab": {
          "base_uri": "https://localhost:8080/"
        },
        "id": "OeoWF3POrLlJ",
        "outputId": "c9989157-097d-4dc6-a8f9-39703d147630"
      },
      "source": [
        "import sklearn\n",
        "print('The scikit-learn version is {}.'.format(sklearn.__version__))\n",
        "import autosklearn\n",
        "print('autosklearn: %s' % autosklearn.__version__)\n",
        "import pandas as pd\n",
        "print('pandas: %s' % pd.__version__)\n",
        "\n",
        "import math\n",
        "import numpy as np\n",
        "from autosklearn.classification import AutoSklearnClassifier\n",
        "from sklearn.metrics import accuracy_score, precision_score, recall_score, f1_score, roc_auc_score\n",
        "from sklearn.model_selection import train_test_split\n",
        "from sklearn.preprocessing import LabelEncoder\n",
        "from collections import defaultdict\n"
      ],
      "execution_count": null,
      "outputs": [
        {
          "output_type": "stream",
          "text": [
            "The scikit-learn version is 0.24.1.\n",
            "autosklearn: 0.12.6\n",
            "pandas: 1.1.5\n"
          ],
          "name": "stdout"
        }
      ]
    },
    {
      "cell_type": "markdown",
      "metadata": {
        "id": "sTwdmK_xMX7R"
      },
      "source": [
        "Mount Google Drive onto this runtime instance."
      ]
    },
    {
      "cell_type": "code",
      "metadata": {
        "colab": {
          "base_uri": "https://localhost:8080/"
        },
        "id": "-RaF7E1vuYIj",
        "outputId": "0abcf468-e934-4341-a21f-c60c45e04e1c"
      },
      "source": [
        "from google.colab import drive\n",
        "drive.mount('/content/drive')"
      ],
      "execution_count": null,
      "outputs": [
        {
          "output_type": "stream",
          "text": [
            "Mounted at /content/drive\n"
          ],
          "name": "stdout"
        }
      ]
    },
    {
      "cell_type": "code",
      "metadata": {
        "id": "o2EGaZq-rTZt"
      },
      "source": [
        "def a1c_level(x):\n",
        "  \"\"\"\n",
        "    convert numberical A1C measurement to A1c level\n",
        "      \n",
        "    Attributes:\n",
        "        x (float):  A1C measurement\n",
        "  \"\"\"\n",
        "  if math.isnan(x):\n",
        "    return 'unknown'\n",
        "  elif x <= 5.9:\n",
        "    return 'low'\n",
        "  elif x <= 6.2:\n",
        "    return 'med'\n",
        "  elif x > 6.2:\n",
        "    return 'high'\n",
        "\n",
        "\n",
        "def get_data(run_name):\n",
        "  \"\"\"\n",
        "    load data from Google Drive \n",
        "      \n",
        "    Attributes:\n",
        "        run_name (str):   the name of the generation run\n",
        "  \"\"\"\n",
        "  data = pd.read_csv('drive/MyDrive/2021 HHS Data Challenge/Data/'+run_name+'/all_patients.csv')\n",
        "  data = data[['RACE', 'ETHNICITY', 'GENDER', 'FIRST_LANGUAGE', 'SOCIOECONOMIC_CATEGORY', 'SOCIOECONOMIC_SCORE', 'INCOME', 'INCOME_LEVEL', 'EDUCATION', 'EDUCATION_LEVEL', 'ACTIVE_WEIGHT_MANAGEMENT', 'BMI_PERCENTILE', 'SMOKER', 'ALCOHOLIC', 'HEALTHCARE_COVERAGE', 'FOOD_INSECURITY', 'SEVERE_HOUSING_COST_BURDEN', 'UNEMPLOYED', 'NO_VEHICLE_ACCESS', 'UNINSURED', 'AGE', 'Prediabetes', 'Diabetes', 'Obesity', 'Severely_Obesity', 'A1c_max']]\n",
        "  data.RACE = data.RACE.astype('category')\n",
        "  data.ETHNICITY = data.ETHNICITY.astype('category')\n",
        "  data.SOCIOECONOMIC_CATEGORY = data.SOCIOECONOMIC_CATEGORY.astype('category')\n",
        "  data.GENDER = data.GENDER.astype('category')\n",
        "  data.EDUCATION = data.EDUCATION.astype('category')\n",
        "  data.FOOD_INSECURITY = data.FOOD_INSECURITY.astype('boolean')\n",
        "  data.SEVERE_HOUSING_COST_BURDEN = data.SEVERE_HOUSING_COST_BURDEN.astype('boolean')\n",
        "  data.UNEMPLOYED = data.UNEMPLOYED.astype('boolean')\n",
        "  data.NO_VEHICLE_ACCESS = data.NO_VEHICLE_ACCESS.astype('boolean')\n",
        "  data.UNINSURED = data.UNINSURED.astype('boolean')\n",
        "  data.Obesity = data.Obesity.astype('boolean')\n",
        "  data.Severely_Obesity = data.Severely_Obesity.astype('boolean')\n",
        "\n",
        "  return data\n",
        "\n",
        "def prepare_dataset(data, sdoh=True):\n",
        "  \"\"\"\n",
        "    prepare a subset dataset for model training\n",
        "      \n",
        "    Attributes:\n",
        "        data (DataFrame):  input dataframe\n",
        "        sdoh (bool):  whether to include the SDOH features\n",
        "  \"\"\"\n",
        "  if sdoh is True:\n",
        "    subset_data = data[['RACE', 'ETHNICITY', 'GENDER', 'EDUCATION', 'FOOD_INSECURITY', 'SEVERE_HOUSING_COST_BURDEN', 'UNEMPLOYED', 'NO_VEHICLE_ACCESS', 'UNINSURED', 'Obesity', 'Prediabetes', 'Diabetes', 'A1c_max']]\n",
        "  else:\n",
        "    subset_data = data[['RACE', 'ETHNICITY', 'GENDER', 'Obesity', 'Prediabetes', 'Diabetes', 'A1c_max']]\n",
        "  subset_data = subset_data[subset_data['Prediabetes']==True]\n",
        "  subset_data['A1c_max'] = subset_data['A1c_max'].apply(lambda x: a1c_level(x))\n",
        "  subset_data.A1c_max = subset_data.A1c_max.astype('category')\n",
        "\n",
        "  #print(subset_data.isnull().sum(axis = 0))\n",
        "  subset_data = subset_data.dropna()\n",
        "\n",
        "  d = defaultdict(LabelEncoder)\n",
        "  fit = subset_data.apply(lambda x: d[x.name].fit_transform(x))\n",
        "\n",
        "  fit.apply(lambda x: d[x.name].inverse_transform(x))\n",
        "  test_data=subset_data.apply(lambda x: d[x.name].transform(x))\n",
        "\n",
        "  if sdoh is True:\n",
        "    test_data['INCOME_LEVEL'] = data.INCOME_LEVEL\n",
        "\n",
        "  test_data['AGE'] = data.AGE\n",
        "  test_data['BMI_PERCENTILE'] = data.BMI_PERCENTILE\n",
        "  \n",
        "  return test_data.dropna()\n",
        "\n",
        "def train_and_evaluate(run_name, sdoh=True):\n",
        "  \"\"\"\n",
        "    train a LogisticRegression based on the generated data. \n",
        "    Then evaluate the prediction performance\n",
        "      \n",
        "    Attributes:\n",
        "        run_name (str):   the name of the generation run\n",
        "        sdoh (bool):  whether to include the SDOH features\n",
        "  \"\"\"\n",
        "  data = get_data(run_name)\n",
        "  dataset = prepare_dataset(data, sdoh)\n",
        "  X = dataset.drop(columns=['Prediabetes', 'Diabetes'])\n",
        "  y = dataset['Diabetes']\n",
        "  X_train, X_test, y_train, y_test = train_test_split(X, y, test_size=0.3, stratify=y, random_state=1234)\n",
        "\n",
        "  automl = AutoSklearnClassifier(n_jobs=-1)\n",
        "  automl.fit(X_train, y_train)\n",
        "\n",
        "  y_pred = automl.predict(X_test)\n",
        "\n",
        "  print(\"Accuracy:\", accuracy_score(y_test, y_pred))\n",
        "  print(\"F1:\", f1_score(y_test, y_pred))\n",
        "  print(\"Precision:\", precision_score(y_test, y_pred))\n",
        "  print(\"Recall:\", recall_score(y_test, y_pred))\n",
        "  print('Balanced accuracy score:', roc_auc_score(y_test, y_pred))"
      ],
      "execution_count": 1,
      "outputs": []
    },
    {
      "cell_type": "code",
      "metadata": {
        "colab": {
          "base_uri": "https://localhost:8080/"
        },
        "id": "NoljsIgtW0cY",
        "outputId": "6fffadb0-0a11-401b-88e3-9cf7924abc04"
      },
      "source": [
        "%%time\n",
        "train_and_evaluate('sample_10k_diabetes_education', sdoh=True)"
      ],
      "execution_count": null,
      "outputs": [
        {
          "output_type": "stream",
          "text": [
            "/usr/local/lib/python3.7/dist-packages/IPython/core/magics/execution.py:1189: DtypeWarning: Columns (37,38,39,40,41) have mixed types.Specify dtype option on import or set low_memory=False.\n",
            "  out = eval(code, glob, local_ns)\n"
          ],
          "name": "stderr"
        },
        {
          "output_type": "stream",
          "text": [
            "Accuracy: 0.8311812261396812\n",
            "F1: 0.640311004784689\n",
            "Precision: 0.8202574318112167\n",
            "Recall: 0.5251128114577203\n",
            "Balanced accuracy score: 0.739493094678919\n",
            "CPU times: user 7min 29s, sys: 32 s, total: 8min 1s\n",
            "Wall time: 1h 1min\n"
          ],
          "name": "stdout"
        }
      ]
    },
    {
      "cell_type": "code",
      "metadata": {
        "colab": {
          "base_uri": "https://localhost:8080/"
        },
        "id": "RLf3aZHggWw0",
        "outputId": "5eda242a-5776-4634-8282-23be737bfe22"
      },
      "source": [
        "%%time\n",
        "train_and_evaluate('sample_10k_diabetes_education', sdoh=False)"
      ],
      "execution_count": null,
      "outputs": [
        {
          "output_type": "stream",
          "text": [
            "/usr/local/lib/python3.7/dist-packages/IPython/core/magics/execution.py:1189: DtypeWarning: Columns (37,38,39,40,41) have mixed types.Specify dtype option on import or set low_memory=False.\n",
            "  out = eval(code, glob, local_ns)\n"
          ],
          "name": "stderr"
        },
        {
          "output_type": "stream",
          "text": [
            "Accuracy: 0.8276312135517911\n",
            "F1: 0.6299409765694867\n",
            "Precision: 0.8162855377008653\n",
            "Recall: 0.5128628288515678\n",
            "Balanced accuracy score: 0.7333072166740238\n",
            "CPU times: user 12min 29s, sys: 44.4 s, total: 13min 13s\n",
            "Wall time: 1h 25s\n"
          ],
          "name": "stdout"
        }
      ]
    },
    {
      "cell_type": "code",
      "metadata": {
        "colab": {
          "base_uri": "https://localhost:8080/"
        },
        "id": "SBgJgF0W5AoR",
        "outputId": "c4487373-89e0-4504-fd68-c45d886a06d8"
      },
      "source": [
        "%%time\n",
        "train_and_evaluate('sample_10k_gender_age_run2', sdoh=True)"
      ],
      "execution_count": null,
      "outputs": [
        {
          "output_type": "stream",
          "text": [
            "/usr/local/lib/python3.7/dist-packages/IPython/core/magics/execution.py:1189: DtypeWarning: Columns (37,38,39,40,41) have mixed types.Specify dtype option on import or set low_memory=False.\n",
            "  out = eval(code, glob, local_ns)\n"
          ],
          "name": "stderr"
        },
        {
          "output_type": "stream",
          "text": [
            "Accuracy: 0.8540561343706188\n",
            "F1: 0.6162076194607099\n",
            "Precision: 0.7948526669153301\n",
            "Recall: 0.5031283201511038\n",
            "Balanced accuracy score: 0.7318551369264082\n",
            "CPU times: user 8min 13s, sys: 34.5 s, total: 8min 48s\n",
            "Wall time: 1h 1min 15s\n"
          ],
          "name": "stdout"
        }
      ]
    },
    {
      "cell_type": "code",
      "metadata": {
        "colab": {
          "base_uri": "https://localhost:8080/"
        },
        "id": "PRsYHluwgZSL",
        "outputId": "afd7dab4-dd1d-4535-fd5c-335c30c1019d"
      },
      "source": [
        "%%time\n",
        "train_and_evaluate('sample_10k_gender_age_run2', sdoh=False)"
      ],
      "execution_count": null,
      "outputs": [
        {
          "output_type": "stream",
          "text": [
            "/usr/local/lib/python3.7/dist-packages/IPython/core/magics/execution.py:1189: DtypeWarning: Columns (37,38,39,40,41) have mixed types.Specify dtype option on import or set low_memory=False.\n",
            "  out = eval(code, glob, local_ns)\n"
          ],
          "name": "stderr"
        },
        {
          "output_type": "stream",
          "text": [
            "Accuracy: 0.854244846902703\n",
            "F1: 0.6153846153846154\n",
            "Precision: 0.7982129560685034\n",
            "Recall: 0.5007006071929005\n",
            "Balanced accuracy score: 0.7311372585769537\n",
            "CPU times: user 12min 58s, sys: 51.6 s, total: 13min 50s\n",
            "Wall time: 1h 40s\n"
          ],
          "name": "stdout"
        }
      ]
    },
    {
      "cell_type": "code",
      "metadata": {
        "colab": {
          "base_uri": "https://localhost:8080/"
        },
        "id": "h_l7z5GP5G_e",
        "outputId": "da948cca-3274-40ce-b460-1e91c0efec7c"
      },
      "source": [
        "%%time\n",
        "train_and_evaluate('sample_10k_diabetes_age', sdoh=True)"
      ],
      "execution_count": null,
      "outputs": [
        {
          "output_type": "stream",
          "text": [
            "/usr/local/lib/python3.7/dist-packages/IPython/core/magics/execution.py:1189: DtypeWarning: Columns (37,38,39,40,41) have mixed types.Specify dtype option on import or set low_memory=False.\n",
            "  out = eval(code, glob, local_ns)\n"
          ],
          "name": "stderr"
        },
        {
          "output_type": "stream",
          "text": [
            "Accuracy: 0.8768417300380228\n",
            "F1: 0.5800243111831442\n",
            "Precision: 0.7554089709762533\n",
            "Recall: 0.47073331141072017\n",
            "Balanced accuracy score: 0.7185622180286143\n",
            "CPU times: user 8min 20s, sys: 30.8 s, total: 8min 51s\n",
            "Wall time: 1h 44s\n"
          ],
          "name": "stdout"
        }
      ]
    },
    {
      "cell_type": "code",
      "metadata": {
        "colab": {
          "base_uri": "https://localhost:8080/"
        },
        "id": "_HCdSbgLgbvE",
        "outputId": "e4888f1e-4011-4bca-f7a9-d35e604755a2"
      },
      "source": [
        "%%time\n",
        "train_and_evaluate('sample_10k_diabetes_age', sdoh=False)"
      ],
      "execution_count": null,
      "outputs": [
        {
          "output_type": "stream",
          "text": [
            "/usr/local/lib/python3.7/dist-packages/IPython/core/magics/execution.py:1189: DtypeWarning: Columns (37,38,39,40,41) have mixed types.Specify dtype option on import or set low_memory=False.\n",
            "  out = eval(code, glob, local_ns)\n"
          ],
          "name": "stderr"
        },
        {
          "output_type": "stream",
          "text": [
            "Accuracy: 0.8782509036410121\n",
            "F1: 0.5833249522276979\n",
            "Precision: 0.764163372859025\n",
            "Recall: 0.4716981132075472\n",
            "Balanced accuracy score: 0.7197986997299168\n",
            "CPU times: user 13min 30s, sys: 51.1 s, total: 14min 22s\n",
            "Wall time: 1h 50s\n"
          ],
          "name": "stdout"
        }
      ]
    },
    {
      "cell_type": "code",
      "metadata": {
        "colab": {
          "base_uri": "https://localhost:8080/"
        },
        "id": "tQHMj72g5Har",
        "outputId": "61b05b8d-d069-4ce2-edff-47da3acf1fd6"
      },
      "source": [
        "%%time\n",
        "train_and_evaluate('sample_10k_run3', sdoh=True)"
      ],
      "execution_count": null,
      "outputs": [
        {
          "output_type": "stream",
          "text": [
            "/usr/local/lib/python3.7/dist-packages/IPython/core/magics/execution.py:1189: DtypeWarning: Columns (37,38,39,40,41) have mixed types.Specify dtype option on import or set low_memory=False.\n",
            "  out = eval(code, glob, local_ns)\n"
          ],
          "name": "stderr"
        },
        {
          "output_type": "stream",
          "text": [
            "Accuracy: 0.9182572614107883\n",
            "F1: 0.5660230659582739\n",
            "Precision: 0.8498054474708171\n",
            "Recall: 0.4243248494268506\n",
            "Balanced accuracy score: 0.7067748245682671\n",
            "CPU times: user 9min 39s, sys: 34 s, total: 10min 13s\n",
            "Wall time: 1h 43s\n"
          ],
          "name": "stdout"
        }
      ]
    },
    {
      "cell_type": "code",
      "metadata": {
        "colab": {
          "base_uri": "https://localhost:8080/"
        },
        "id": "OS01qz8NbUXG",
        "outputId": "3802ec2b-14b8-44e5-ce30-a3588b93b0b1"
      },
      "source": [
        "%%time\n",
        "train_and_evaluate('sample_10k_run3', sdoh=False)"
      ],
      "execution_count": null,
      "outputs": [
        {
          "output_type": "stream",
          "text": [
            "/usr/local/lib/python3.7/dist-packages/IPython/core/magics/execution.py:1189: DtypeWarning: Columns (37,38,39,40,41) have mixed types.Specify dtype option on import or set low_memory=False.\n",
            "  out = eval(code, glob, local_ns)\n",
            "INFO:numexpr.utils:NumExpr defaulting to 2 threads.\n"
          ],
          "name": "stderr"
        },
        {
          "output_type": "stream",
          "text": [
            "Accuracy: 0.9169505036596854\n",
            "F1: 0.5573010558846253\n",
            "Precision: 0.8416958381952547\n",
            "Recall: 0.4165543792107796\n",
            "Balanced accuracy score: 0.7026559532096105\n",
            "CPU times: user 8min 34s, sys: 30.2 s, total: 9min 4s\n",
            "Wall time: 1h 30s\n"
          ],
          "name": "stdout"
        }
      ]
    },
    {
      "cell_type": "code",
      "metadata": {
        "id": "Hwlb8UifghWU"
      },
      "source": [
        ""
      ],
      "execution_count": null,
      "outputs": []
    }
  ]
}